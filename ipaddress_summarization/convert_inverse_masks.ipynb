{
 "cells": [
  {
   "cell_type": "code",
   "execution_count": 21,
   "id": "c3ef046e-2821-4328-a9a3-64a7af34981f",
   "metadata": {},
   "outputs": [],
   "source": [
    "from ipv4_from_base_10 import ipv4_from_base_10\n",
    "from ipv4_from_base_2 import ipv4_from_base_2\n",
    "from ipv4_from_inverse_mask import ipv4_from_inverse_mask\n",
    "import ipaddress"
   ]
  },
  {
   "cell_type": "code",
   "execution_count": 19,
   "id": "4ceeb87b-cdb0-46b4-b326-b9cb827fd399",
   "metadata": {},
   "outputs": [],
   "source": [
    "data = \"\"\"0.0.0.31 \n",
    "0.0.0.255\n",
    "0.0.0.7  \n",
    "0.0.0.255\n",
    "0.0.0.255\"\"\".split(\"\\n\")\n",
    "data = [x.strip() for x in data]"
   ]
  },
  {
   "cell_type": "code",
   "execution_count": 20,
   "id": "e54f4630-744a-4327-8d02-d1a3a42ca2b0",
   "metadata": {},
   "outputs": [
    {
     "name": "stderr",
     "output_type": "stream",
     "text": [
      "/opt/conda/lib/python3.10/site-packages/dask/dataframe/core.py:6748: FutureWarning: Meta is not valid, `map_partitions` and `map_overlap` expects output to be a pandas object. Try passing a pandas object as meta or a dict or tuple representing the (name, dtype) of the columns. In the future the meta you passed will not work.\n",
      "  warnings.warn(\n"
     ]
    },
    {
     "data": {
      "application/vnd.jupyter.widget-view+json": {
       "model_id": "",
       "version_major": 2,
       "version_minor": 0
      },
      "text/plain": [
       "  0%|          | 0/8 [00:00<?, ?it/s]"
      ]
     },
     "metadata": {},
     "output_type": "display_data"
    },
    {
     "name": "stdout",
     "output_type": "stream",
     "text": [
      "255.255.255.224\n",
      "255.255.255.0\n",
      "255.255.255.248\n",
      "255.255.255.0\n",
      "255.255.255.0\n"
     ]
    },
    {
     "data": {
      "text/plain": [
       "[None, None, None, None, None]"
      ]
     },
     "execution_count": 20,
     "metadata": {},
     "output_type": "execute_result"
    }
   ],
   "source": [
    "# data = [\"0.0.0.31\",\"0.0.0.255\"]\n",
    "data = ipv4_from_base_10(data)[\"ip_clean\"]\n",
    "data = ipv4_from_inverse_mask(data)\n",
    "data = ipv4_from_base_2(data)\n",
    "[print(x) for x in data]"
   ]
  },
  {
   "cell_type": "code",
   "execution_count": 23,
   "id": "6cd05235-b8b8-4a04-9012-8afb7675887b",
   "metadata": {},
   "outputs": [],
   "source": [
    "temp = ipaddress.ip_network(\"10.114.244.0/20\" , strict=False)"
   ]
  },
  {
   "cell_type": "code",
   "execution_count": 33,
   "id": "9747dfb2-4019-4ce1-ad85-73d6484b557d",
   "metadata": {},
   "outputs": [
    {
     "data": {
      "text/plain": [
       "'10.114.240.0/20'"
      ]
     },
     "execution_count": 33,
     "metadata": {},
     "output_type": "execute_result"
    }
   ],
   "source": [
    "temp.with_prefixlen"
   ]
  },
  {
   "cell_type": "code",
   "execution_count": 35,
   "id": "c557a808-f94b-4767-903e-ffab1d57ad34",
   "metadata": {},
   "outputs": [
    {
     "data": {
      "text/plain": [
       "2.5"
      ]
     },
     "execution_count": 35,
     "metadata": {},
     "output_type": "execute_result"
    }
   ],
   "source": [
    "20 / 8"
   ]
  },
  {
   "cell_type": "code",
   "execution_count": null,
   "id": "33721046-e057-4360-83e0-33053ee6775e",
   "metadata": {},
   "outputs": [],
   "source": [
    "1:128\n",
    "2:64\n",
    "3:32\n",
    "4:16\n",
    "5:8\n",
    "6:4\n",
    "7:2\n",
    "8:1"
   ]
  },
  {
   "cell_type": "code",
   "execution_count": null,
   "id": "6348bf1c-e395-4705-a5ac-0d60ae9a983a",
   "metadata": {},
   "outputs": [],
   "source": [
    "i >= 8\n",
    "i >= 16\n",
    "i >= 24 \n",
    "i == 32"
   ]
  },
  {
   "cell_type": "code",
   "execution_count": 36,
   "id": "2915851c-9817-4aa1-aaf6-73a36282c8f4",
   "metadata": {},
   "outputs": [
    {
     "data": {
      "text/plain": [
       "4"
      ]
     },
     "execution_count": 36,
     "metadata": {},
     "output_type": "execute_result"
    }
   ],
   "source": [
    "24 - 20 "
   ]
  },
  {
   "cell_type": "code",
   "execution_count": 59,
   "id": "690c895c-58e6-4e51-868b-42139cb6d0d7",
   "metadata": {},
   "outputs": [],
   "source": [
    "def ip_octant(x):\n",
    "    if (x <= 8):\n",
    "        return (8 - x)\n",
    "    elif (x <= 16):\n",
    "        return (16 - x)\n",
    "    elif (x <= 24):\n",
    "        return (24 - x)\n",
    "    else: \n",
    "        return (32 - x)"
   ]
  },
  {
   "cell_type": "code",
   "execution_count": 60,
   "id": "784ac56e-1413-409a-b0ee-862b9ac71748",
   "metadata": {},
   "outputs": [],
   "source": [
    "def ip_increment(x):\n",
    "    if (x == 1):\n",
    "        return 128\n",
    "    elif (x == 2):\n",
    "        return 64\n",
    "    elif (x == 3):\n",
    "        return 32\n",
    "    elif (x == 4):\n",
    "        return 16\n",
    "    elif (x == 5):\n",
    "        return 8\n",
    "    elif (x == 6):\n",
    "        return 4\n",
    "    elif (x == 7):\n",
    "        return 2\n",
    "    elif (x == 8):\n",
    "        return 1\n",
    "    else: \n",
    "        return 0"
   ]
  },
  {
   "cell_type": "code",
   "execution_count": 61,
   "id": "2cb7bda8-dc1f-4d61-b22c-34ccfc8a03c8",
   "metadata": {},
   "outputs": [
    {
     "data": {
      "text/plain": [
       "4"
      ]
     },
     "execution_count": 61,
     "metadata": {},
     "output_type": "execute_result"
    }
   ],
   "source": [
    "prefix = 20\n",
    "ip_octant(prefix)"
   ]
  },
  {
   "cell_type": "code",
   "execution_count": 62,
   "id": "89ae150d-d6a0-4789-9a09-40a685bfca0b",
   "metadata": {},
   "outputs": [
    {
     "data": {
      "text/plain": [
       "16"
      ]
     },
     "execution_count": 62,
     "metadata": {},
     "output_type": "execute_result"
    }
   ],
   "source": [
    "ip_increment(ip_octant(prefix))"
   ]
  },
  {
   "cell_type": "code",
   "execution_count": 63,
   "id": "572ef3f7-bdc8-4b89-bcb3-f3ead5ef76bc",
   "metadata": {},
   "outputs": [],
   "source": [
    "from ipaddress import IPv4Network, ip_network,ip_address\n",
    "from netaddr import IPAddress, cidr_merge\n",
    "import pandas as pd\n",
    "from dataprep.clean import clean_ip\n",
    "import pprint as pp\n",
    "import numpy as np\n",
    "\n",
    "def ipv4_summary_address(data):\n",
    "    b_result = []\n",
    "    for i,x in enumerate(data):\n",
    "        list_length = len(data)\n",
    "        def ip_format(ip):\n",
    "            ip = ''.join(map(str, ip))\n",
    "            return str(ip_address(int(ip, 2)))\n",
    "        def common_bit(x):\n",
    "            x = np.array(x)\n",
    "            for index in range(32):\n",
    "                # print(len(set(d[:,index])) <= 1)\n",
    "                if ((len(set(x[:,index])) <= 1) != True):\n",
    "                    # print(len(set(d[:,index])) <= 1, index)\n",
    "                    print([0 if x > index else 1 for x in list(range(32))], ip_format([0 if x > index else 1 for x in list(range(32))]), f\"/{index}\")\n",
    "                    return {\n",
    "                        \"network_bits\":index,\n",
    "                        \"mask_binary\":[0 if x > index else 1 for x in list(range(32))],\n",
    "                        \"mask\": ip_format([0 if x > index else 1 for x in list(range(32))])\n",
    "                    }\n",
    "                    return True\n",
    "        if (len(data) > i+1):\n",
    "            new_list = {\n",
    "                ip_format(x):{\n",
    "                    \"common\":[],\n",
    "                    \"compared\":[],\n",
    "                    \"summary\": {}\n",
    "                }\n",
    "            }\n",
    "            last_common_bit = None\n",
    "            # print(x,ip_format(x))\n",
    "            for j,y in enumerate(data[i:]):\n",
    "                # if (x != y):\n",
    "                if (True):\n",
    "                    print(list(a and b for a,b in zip(x,y)),ip_format(y))\n",
    "                    # new_list[ip_format(x)][\"common\"].append(list(a and b for a,b in zip(x,y)))\n",
    "                    new_list[ip_format(x)][\"common\"].append(y)\n",
    "                    new_list[ip_format(x)][\"compared\"].append(ip_format(y))\n",
    "            new_list[ip_format(x)][\"summary\"] = common_bit(new_list[ip_format(x)][\"common\"])\n",
    "\n",
    "\n",
    "            b_result.append(new_list)\n",
    "\n",
    "        print(\"\\n\")\n",
    "    pp.pprint(b_result, width=200)"
   ]
  },
  {
   "cell_type": "code",
   "execution_count": null,
   "id": "8fe5dd72-0fcf-45d3-80bc-e79642dcbe15",
   "metadata": {},
   "outputs": [],
   "source": [
    "ipv4_summary_address()"
   ]
  }
 ],
 "metadata": {
  "kernelspec": {
   "display_name": "Python 3 (ipykernel)",
   "language": "python",
   "name": "python3"
  },
  "language_info": {
   "codemirror_mode": {
    "name": "ipython",
    "version": 3
   },
   "file_extension": ".py",
   "mimetype": "text/x-python",
   "name": "python",
   "nbconvert_exporter": "python",
   "pygments_lexer": "ipython3",
   "version": "3.10.6"
  }
 },
 "nbformat": 4,
 "nbformat_minor": 5
}
