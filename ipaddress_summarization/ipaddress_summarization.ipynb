{
 "cells": [
  {
   "cell_type": "code",
   "execution_count": 1,
   "id": "f180cd02-18f1-430d-8b07-81de1f060bb7",
   "metadata": {},
   "outputs": [
    {
     "name": "stdout",
     "output_type": "stream",
     "text": [
      "Collecting netaddr\n",
      "  Downloading netaddr-0.8.0-py2.py3-none-any.whl (1.9 MB)\n",
      "\u001b[2K     \u001b[90m━━━━━━━━━━━━━━━━━━━━━━━━━━━━━━━━━━━━━━━━\u001b[0m \u001b[32m1.9/1.9 MB\u001b[0m \u001b[31m3.1 MB/s\u001b[0m eta \u001b[36m0:00:00\u001b[0m00:01\u001b[0m00:01\u001b[0m0m\n",
      "\u001b[?25hInstalling collected packages: netaddr\n",
      "Successfully installed netaddr-0.8.0\n"
     ]
    }
   ],
   "source": [
    "!pip install netaddr"
   ]
  },
  {
   "cell_type": "code",
   "execution_count": 7,
   "id": "1434def2-0680-40b2-a4b0-0734adf92f6c",
   "metadata": {},
   "outputs": [],
   "source": [
    "from ipaddress import IPv4Network\n",
    "from netaddr import IPAddress, cidr_merge"
   ]
  },
  {
   "cell_type": "code",
   "execution_count": 330,
   "id": "c741e455-1283-4a6b-be67-4beba344de35",
   "metadata": {
    "jupyter": {
     "source_hidden": true
    },
    "tags": []
   },
   "outputs": [],
   "source": [
    "def result_compare(a:list,b:list):\n",
    "    # convert list of ip objects into list of strings\n",
    "    a = [str(x) for x in a]\n",
    "    b = [str(x) for x in b]\n",
    "    # create variable to store length of each list\n",
    "    length_a = len(a)\n",
    "    length_b = len(b)\n",
    "    # create variable to store the output text\n",
    "    output = str\n",
    "    # create a function to add padding\n",
    "    def padding(spaces):\n",
    "        return \" \".join([\"\" for y in [x for x in list(range(spaces))]])\n",
    "    # create a fuction which acts as a tamplate of each line of the output\n",
    "    def make_template(index,left_length,right_length,left_prefix,right_prefix, template):\n",
    "        # number of padds to add\n",
    "        spacer_target = 21\n",
    "        # calculate the number of pads needed to reach spacer_target\n",
    "        spacer = spacer_target - len(left_prefix)\n",
    "        # create padding + 1\n",
    "        spaces = padding(spacer + 1)\n",
    "        # check if this is the first line and add the heading and first row, else create the remaining rows\n",
    "        if (index == 0) :\n",
    "            template = f\"\"\"\n",
    "            list A: {left_length}                 ListB: {right_length}\n",
    "            {left_prefix}{spaces}--    {right_prefix}\"\"\"\n",
    "        else:\n",
    "            template = f\"\"\"\n",
    "            {left_prefix}{spaces}--    {right_prefix}\"\"\"\n",
    "        # return the resulting row string\n",
    "        return template\n",
    "    # make array a and b are the same size\n",
    "\n",
    "    if (length_a > length_b):\n",
    "        # find the differnce in length between the two lists\n",
    "        list_size = length_a - length_b\n",
    "        # make the smaller list the same length as the larger\n",
    "        b = b + [\"\" for _ in range(list_size)]\n",
    "        length_b = len(b)\n",
    "    elif (length_b > length_a):\n",
    "        list_size = length_b - length_a\n",
    "        a = a + [\"\" for _ in range(list_size)]  \n",
    "        length_a = len(a)\n",
    "\n",
    "    for (i,x) in enumerate(a):\n",
    "        print(make_template(i, length_a, length_b, x, b[i], output))\n",
    "        \n",
    "                "
   ]
  },
  {
   "cell_type": "code",
   "execution_count": 334,
   "id": "990d869b-f743-4617-978d-7b48a6189e44",
   "metadata": {},
   "outputs": [
    {
     "name": "stdout",
     "output_type": "stream",
     "text": [
      "\n",
      "            list A: 11                 ListB: 11\n",
      "            119.195.74.210/32    --    119.195.74.210/32\n",
      "\n",
      "            119.196.154.2/32     --    119.196.154.2/32\n",
      "\n",
      "            119.196.247.223/32   --    119.196.247.223/32\n",
      "\n",
      "            119.197.20.186/32    --    119.197.20.186/32\n",
      "\n",
      "            119.199.160.32/31    --    119.199.160.107/32\n",
      "\n",
      "            119.199.160.34/32    --    119.199.160.32/31\n",
      "\n",
      "            119.199.160.54/31    --    119.199.160.34/32\n",
      "\n",
      "            119.199.160.107/32   --    119.199.160.54/31\n",
      "\n",
      "            192.0.2.0/24         --    192.0.2.0/24\n",
      "\n",
      "            192.0.4.0/24         --    192.0.4.0/25\n",
      "\n",
      "                                 --    192.0.4.128/25\n",
      "\n",
      "\n",
      "Route Summaries\n"
     ]
    },
    {
     "data": {
      "text/plain": [
       "['192.0.4.0/24']"
      ]
     },
     "execution_count": 334,
     "metadata": {},
     "output_type": "execute_result"
    }
   ],
   "source": [
    "fh = open (\"./addresses.txt\", 'r')\n",
    "iplist = list()\n",
    "for addr in fh:\n",
    "    # print(addr)\n",
    "    addr = addr.strip()\n",
    "    iplist.append (addr)\n",
    "result_compare(cidr_merge(iplist),iplist)\n",
    "print(\"\\n\\nRoute Summaries\")\n",
    "list(set([str(x)for x in cidr_merge(iplist)]) - set(iplist))"
   ]
  },
  {
   "cell_type": "code",
   "execution_count": 313,
   "id": "4f8da0e2-d573-40b6-961f-2f0cd9ec7828",
   "metadata": {},
   "outputs": [
    {
     "data": {
      "text/plain": [
       "11"
      ]
     },
     "execution_count": 313,
     "metadata": {},
     "output_type": "execute_result"
    }
   ],
   "source": [
    "len(iplist)"
   ]
  },
  {
   "cell_type": "code",
   "execution_count": 317,
   "id": "b0d18a98-b46e-4be7-9b31-7a7ea627201c",
   "metadata": {},
   "outputs": [
    {
     "name": "stdout",
     "output_type": "stream",
     "text": [
      "Route Summaries\n"
     ]
    },
    {
     "data": {
      "text/plain": [
       "['']"
      ]
     },
     "execution_count": 317,
     "metadata": {},
     "output_type": "execute_result"
    }
   ],
   "source": [
    "\n",
    "list(set([str()for x in cidr_merge(iplist)]) - set(iplist))"
   ]
  },
  {
   "cell_type": "code",
   "execution_count": 318,
   "id": "c40cd0c2-1473-44d0-bf36-f46cd442afd4",
   "metadata": {},
   "outputs": [
    {
     "name": "stdout",
     "output_type": "stream",
     "text": [
      "119.195.74.210/32\n",
      "\n",
      "119.196.154.2/32\n",
      "\n",
      "119.196.247.223/32\n",
      "\n",
      "119.197.20.186/32\n",
      "\n",
      "119.199.160.32/31\n",
      "\n",
      "119.199.160.34/32\n",
      "\n",
      "119.199.160.54/31\n",
      "\n",
      "119.199.160.107/32\n",
      "\n",
      "192.0.2.0/24\n",
      "\n",
      "192.0.4.0/24\n",
      "\n"
     ]
    }
   ],
   "source": [
    "for x in cidr_merge(iplist):\n",
    "    print(f\"{x}\\n\")"
   ]
  },
  {
   "cell_type": "code",
   "execution_count": 327,
   "id": "f8aa4fbe-ca5f-4209-922e-41bb7abc2b93",
   "metadata": {},
   "outputs": [
    {
     "data": {
      "text/plain": [
       "['192.0.4.0/24']"
      ]
     },
     "execution_count": 327,
     "metadata": {},
     "output_type": "execute_result"
    }
   ],
   "source": []
  },
  {
   "cell_type": "code",
   "execution_count": 326,
   "id": "1dc20723-6dd7-43e7-91b8-2b35ccd58167",
   "metadata": {},
   "outputs": [
    {
     "data": {
      "text/plain": [
       "[IPNetwork('119.195.74.210/32'),\n",
       " IPNetwork('119.196.154.2/32'),\n",
       " IPNetwork('119.196.247.223/32'),\n",
       " IPNetwork('119.197.20.186/32'),\n",
       " IPNetwork('119.199.160.32/31'),\n",
       " IPNetwork('119.199.160.34/32'),\n",
       " IPNetwork('119.199.160.54/31'),\n",
       " IPNetwork('119.199.160.107/32'),\n",
       " IPNetwork('192.0.2.0/24'),\n",
       " IPNetwork('192.0.4.0/24')]"
      ]
     },
     "execution_count": 326,
     "metadata": {},
     "output_type": "execute_result"
    }
   ],
   "source": []
  },
  {
   "cell_type": "code",
   "execution_count": 320,
   "id": "9137a512-edbe-4f62-8fae-6f82e8885d9c",
   "metadata": {},
   "outputs": [
    {
     "data": {
      "text/plain": [
       "10"
      ]
     },
     "execution_count": 320,
     "metadata": {},
     "output_type": "execute_result"
    }
   ],
   "source": [
    "len(cidr_merge(iplist))"
   ]
  },
  {
   "cell_type": "code",
   "execution_count": 321,
   "id": "6a3be444-5b01-4dc3-a431-2334d5796e03",
   "metadata": {},
   "outputs": [],
   "source": []
  },
  {
   "cell_type": "code",
   "execution_count": 322,
   "id": "30150dbf-efb4-40b3-8839-9da0ce3ddd5d",
   "metadata": {},
   "outputs": [
    {
     "data": {
      "text/plain": [
       "37"
      ]
     },
     "execution_count": 322,
     "metadata": {},
     "output_type": "execute_result"
    }
   ],
   "source": [
    "len(\"119.195.74.210/32                    \")"
   ]
  },
  {
   "cell_type": "code",
   "execution_count": 323,
   "id": "b4503c38-4803-4d9c-bf71-a98c6c5b2553",
   "metadata": {},
   "outputs": [
    {
     "name": "stdout",
     "output_type": "stream",
     "text": [
      "\n",
      "            list A: 11                 ListB: 11\n",
      "            119.195.74.210/32    --    119.195.74.210/32\n",
      "\n",
      "            119.196.154.2/32     --    119.196.154.2/32\n",
      "\n",
      "            119.196.247.223/32   --    119.196.247.223/32\n",
      "\n",
      "            119.197.20.186/32    --    119.197.20.186/32\n",
      "\n",
      "            119.199.160.32/31    --    119.199.160.107/32\n",
      "\n",
      "            119.199.160.34/32    --    119.199.160.32/31\n",
      "\n",
      "            119.199.160.54/31    --    119.199.160.34/32\n",
      "\n",
      "            119.199.160.107/32   --    119.199.160.54/31\n",
      "\n",
      "            192.0.2.0/24         --    192.0.2.0/24\n",
      "\n",
      "            192.0.4.0/24         --    192.0.4.0/25\n",
      "\n",
      "                                 --    192.0.4.128/25\n"
     ]
    }
   ],
   "source": []
  },
  {
   "cell_type": "code",
   "execution_count": null,
   "id": "0fe9843f-1932-4f4b-8092-92779b9c292a",
   "metadata": {},
   "outputs": [],
   "source": []
  },
  {
   "cell_type": "code",
   "execution_count": 324,
   "id": "0c59d08e-a389-42c6-bcd9-1adb1a039fac",
   "metadata": {},
   "outputs": [
    {
     "data": {
      "text/plain": [
       "{'119.195.74.210/32',\n",
       " '119.196.154.2/32',\n",
       " '119.196.247.223/32',\n",
       " '119.197.20.186/32',\n",
       " '119.199.160.107/32',\n",
       " '119.199.160.32/31',\n",
       " '119.199.160.34/32',\n",
       " '119.199.160.54/31',\n",
       " '192.0.2.0/24',\n",
       " '192.0.4.0/25',\n",
       " '192.0.4.128/25'}"
      ]
     },
     "execution_count": 324,
     "metadata": {},
     "output_type": "execute_result"
    }
   ],
   "source": [
    "set(iplist)"
   ]
  },
  {
   "cell_type": "code",
   "execution_count": null,
   "id": "3c64333d-9d5b-4a2e-8afc-e311062fe383",
   "metadata": {},
   "outputs": [],
   "source": []
  }
 ],
 "metadata": {
  "kernelspec": {
   "display_name": "Python 3 (ipykernel)",
   "language": "python",
   "name": "python3"
  },
  "language_info": {
   "codemirror_mode": {
    "name": "ipython",
    "version": 3
   },
   "file_extension": ".py",
   "mimetype": "text/x-python",
   "name": "python",
   "nbconvert_exporter": "python",
   "pygments_lexer": "ipython3",
   "version": "3.10.6"
  }
 },
 "nbformat": 4,
 "nbformat_minor": 5
}
