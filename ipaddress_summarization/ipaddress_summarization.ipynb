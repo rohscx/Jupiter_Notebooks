{
 "cells": [
  {
   "cell_type": "code",
   "execution_count": 4,
   "id": "f180cd02-18f1-430d-8b07-81de1f060bb7",
   "metadata": {
    "collapsed": true,
    "jupyter": {
     "outputs_hidden": true
    },
    "tags": []
   },
   "outputs": [
    {
     "name": "stdout",
     "output_type": "stream",
     "text": [
      "Requirement already satisfied: netaddr in /opt/conda/lib/python3.10/site-packages (0.8.0)\n",
      "Requirement already satisfied: dataprep in /opt/conda/lib/python3.10/site-packages (0.4.5)\n",
      "Requirement already satisfied: rapidfuzz<3.0.0,>=2.1.2 in /opt/conda/lib/python3.10/site-packages (from dataprep) (2.13.3)\n",
      "Requirement already satisfied: scipy<2.0,>=1.8 in /opt/conda/lib/python3.10/site-packages (from dataprep) (1.9.1)\n",
      "Requirement already satisfied: sqlalchemy==1.3.24 in /opt/conda/lib/python3.10/site-packages (from dataprep) (1.3.24)\n",
      "Requirement already satisfied: varname<0.9.0,>=0.8.1 in /opt/conda/lib/python3.10/site-packages (from dataprep) (0.8.3)\n",
      "Requirement already satisfied: metaphone<0.7,>=0.6 in /opt/conda/lib/python3.10/site-packages (from dataprep) (0.6)\n",
      "Requirement already satisfied: flask<3,>=2 in /opt/conda/lib/python3.10/site-packages (from dataprep) (2.2.2)\n",
      "Requirement already satisfied: regex<2022.0.0,>=2021.8.3 in /opt/conda/lib/python3.10/site-packages (from dataprep) (2021.11.10)\n",
      "Requirement already satisfied: pandas<2.0,>=1.1 in /opt/conda/lib/python3.10/site-packages (from dataprep) (1.5.0)\n",
      "Requirement already satisfied: pydantic<2.0,>=1.6 in /opt/conda/lib/python3.10/site-packages (from dataprep) (1.10.2)\n",
      "Requirement already satisfied: numpy<2.0,>=1.21 in /opt/conda/lib/python3.10/site-packages (from dataprep) (1.23.3)\n",
      "Requirement already satisfied: python-stdnum<2.0,>=1.16 in /opt/conda/lib/python3.10/site-packages (from dataprep) (1.18)\n",
      "Requirement already satisfied: wordcloud<2.0,>=1.8 in /opt/conda/lib/python3.10/site-packages (from dataprep) (1.8.2.2)\n",
      "Requirement already satisfied: aiohttp<4.0,>=3.6 in /opt/conda/lib/python3.10/site-packages (from dataprep) (3.8.3)\n",
      "Requirement already satisfied: flask_cors<4.0.0,>=3.0.10 in /opt/conda/lib/python3.10/site-packages (from dataprep) (3.0.10)\n",
      "Requirement already satisfied: nltk<4.0.0,>=3.6.7 in /opt/conda/lib/python3.10/site-packages (from dataprep) (3.7)\n",
      "Requirement already satisfied: tqdm<5.0,>=4.48 in /opt/conda/lib/python3.10/site-packages (from dataprep) (4.64.1)\n",
      "Requirement already satisfied: bokeh<3,>=2 in /opt/conda/lib/python3.10/site-packages (from dataprep) (2.4.3)\n",
      "Requirement already satisfied: jsonpath-ng<2.0,>=1.5 in /opt/conda/lib/python3.10/site-packages (from dataprep) (1.5.3)\n",
      "Requirement already satisfied: ipywidgets<8.0,>=7.5 in /opt/conda/lib/python3.10/site-packages (from dataprep) (7.7.2)\n",
      "Requirement already satisfied: python-crfsuite==0.9.8 in /opt/conda/lib/python3.10/site-packages (from dataprep) (0.9.8)\n",
      "Requirement already satisfied: dask[array,dataframe,delayed]>=2022.3.0 in /opt/conda/lib/python3.10/site-packages (from dataprep) (2022.10.0)\n",
      "Requirement already satisfied: pydot<2.0.0,>=1.4.2 in /opt/conda/lib/python3.10/site-packages (from dataprep) (1.4.2)\n",
      "Requirement already satisfied: jinja2<3.1,>=3.0 in /opt/conda/lib/python3.10/site-packages (from dataprep) (3.0.3)\n",
      "Requirement already satisfied: frozenlist>=1.1.1 in /opt/conda/lib/python3.10/site-packages (from aiohttp<4.0,>=3.6->dataprep) (1.3.3)\n",
      "Requirement already satisfied: attrs>=17.3.0 in /opt/conda/lib/python3.10/site-packages (from aiohttp<4.0,>=3.6->dataprep) (22.1.0)\n",
      "Requirement already satisfied: charset-normalizer<3.0,>=2.0 in /opt/conda/lib/python3.10/site-packages (from aiohttp<4.0,>=3.6->dataprep) (2.1.1)\n",
      "Requirement already satisfied: multidict<7.0,>=4.5 in /opt/conda/lib/python3.10/site-packages (from aiohttp<4.0,>=3.6->dataprep) (6.0.3)\n",
      "Requirement already satisfied: yarl<2.0,>=1.0 in /opt/conda/lib/python3.10/site-packages (from aiohttp<4.0,>=3.6->dataprep) (1.8.2)\n",
      "Requirement already satisfied: async-timeout<5.0,>=4.0.0a3 in /opt/conda/lib/python3.10/site-packages (from aiohttp<4.0,>=3.6->dataprep) (4.0.2)\n",
      "Requirement already satisfied: aiosignal>=1.1.2 in /opt/conda/lib/python3.10/site-packages (from aiohttp<4.0,>=3.6->dataprep) (1.3.1)\n",
      "Requirement already satisfied: packaging>=16.8 in /opt/conda/lib/python3.10/site-packages (from bokeh<3,>=2->dataprep) (21.3)\n",
      "Requirement already satisfied: typing-extensions>=3.10.0 in /opt/conda/lib/python3.10/site-packages (from bokeh<3,>=2->dataprep) (4.4.0)\n",
      "Requirement already satisfied: pillow>=7.1.0 in /opt/conda/lib/python3.10/site-packages (from bokeh<3,>=2->dataprep) (9.2.0)\n",
      "Requirement already satisfied: tornado>=5.1 in /opt/conda/lib/python3.10/site-packages (from bokeh<3,>=2->dataprep) (6.1)\n",
      "Requirement already satisfied: PyYAML>=3.10 in /opt/conda/lib/python3.10/site-packages (from bokeh<3,>=2->dataprep) (6.0)\n",
      "Requirement already satisfied: partd>=0.3.10 in /opt/conda/lib/python3.10/site-packages (from dask[array,dataframe,delayed]>=2022.3.0->dataprep) (1.3.0)\n",
      "Requirement already satisfied: toolz>=0.8.2 in /opt/conda/lib/python3.10/site-packages (from dask[array,dataframe,delayed]>=2022.3.0->dataprep) (0.12.0)\n",
      "Requirement already satisfied: fsspec>=0.6.0 in /opt/conda/lib/python3.10/site-packages (from dask[array,dataframe,delayed]>=2022.3.0->dataprep) (2022.8.2)\n",
      "Requirement already satisfied: cloudpickle>=1.1.1 in /opt/conda/lib/python3.10/site-packages (from dask[array,dataframe,delayed]>=2022.3.0->dataprep) (2.2.0)\n",
      "Requirement already satisfied: Werkzeug>=2.2.2 in /opt/conda/lib/python3.10/site-packages (from flask<3,>=2->dataprep) (2.2.2)\n",
      "Requirement already satisfied: itsdangerous>=2.0 in /opt/conda/lib/python3.10/site-packages (from flask<3,>=2->dataprep) (2.1.2)\n",
      "Requirement already satisfied: click>=8.0 in /opt/conda/lib/python3.10/site-packages (from flask<3,>=2->dataprep) (8.1.3)\n",
      "Requirement already satisfied: Six in /opt/conda/lib/python3.10/site-packages (from flask_cors<4.0.0,>=3.0.10->dataprep) (1.16.0)\n",
      "Requirement already satisfied: widgetsnbextension~=3.6.0 in /opt/conda/lib/python3.10/site-packages (from ipywidgets<8.0,>=7.5->dataprep) (3.6.1)\n",
      "Requirement already satisfied: ipython>=4.0.0 in /opt/conda/lib/python3.10/site-packages (from ipywidgets<8.0,>=7.5->dataprep) (8.5.0)\n",
      "Requirement already satisfied: ipython-genutils~=0.2.0 in /opt/conda/lib/python3.10/site-packages (from ipywidgets<8.0,>=7.5->dataprep) (0.2.0)\n",
      "Requirement already satisfied: ipykernel>=4.5.1 in /opt/conda/lib/python3.10/site-packages (from ipywidgets<8.0,>=7.5->dataprep) (6.16.0)\n",
      "Requirement already satisfied: traitlets>=4.3.1 in /opt/conda/lib/python3.10/site-packages (from ipywidgets<8.0,>=7.5->dataprep) (5.4.0)\n",
      "Requirement already satisfied: jupyterlab-widgets<3,>=1.0.0 in /opt/conda/lib/python3.10/site-packages (from ipywidgets<8.0,>=7.5->dataprep) (1.1.1)\n",
      "Requirement already satisfied: MarkupSafe>=2.0 in /opt/conda/lib/python3.10/site-packages (from jinja2<3.1,>=3.0->dataprep) (2.1.1)\n",
      "Requirement already satisfied: ply in /opt/conda/lib/python3.10/site-packages (from jsonpath-ng<2.0,>=1.5->dataprep) (3.11)\n",
      "Requirement already satisfied: decorator in /opt/conda/lib/python3.10/site-packages (from jsonpath-ng<2.0,>=1.5->dataprep) (5.1.1)\n",
      "Requirement already satisfied: joblib in /opt/conda/lib/python3.10/site-packages (from nltk<4.0.0,>=3.6.7->dataprep) (1.2.0)\n",
      "Requirement already satisfied: python-dateutil>=2.8.1 in /opt/conda/lib/python3.10/site-packages (from pandas<2.0,>=1.1->dataprep) (2.8.2)\n",
      "Requirement already satisfied: pytz>=2020.1 in /opt/conda/lib/python3.10/site-packages (from pandas<2.0,>=1.1->dataprep) (2022.4)\n",
      "Requirement already satisfied: pyparsing>=2.1.4 in /opt/conda/lib/python3.10/site-packages (from pydot<2.0.0,>=1.4.2->dataprep) (3.0.9)\n",
      "Requirement already satisfied: asttokens<3.0.0,>=2.0.0 in /opt/conda/lib/python3.10/site-packages (from varname<0.9.0,>=0.8.1->dataprep) (2.0.8)\n",
      "Requirement already satisfied: pure_eval<1.0.0 in /opt/conda/lib/python3.10/site-packages (from varname<0.9.0,>=0.8.1->dataprep) (0.2.2)\n",
      "Requirement already satisfied: executing<0.9.0,>=0.8.3 in /opt/conda/lib/python3.10/site-packages (from varname<0.9.0,>=0.8.1->dataprep) (0.8.3)\n",
      "Requirement already satisfied: matplotlib in /opt/conda/lib/python3.10/site-packages (from wordcloud<2.0,>=1.8->dataprep) (3.6.1)\n",
      "Requirement already satisfied: matplotlib-inline>=0.1 in /opt/conda/lib/python3.10/site-packages (from ipykernel>=4.5.1->ipywidgets<8.0,>=7.5->dataprep) (0.1.6)\n",
      "Requirement already satisfied: nest-asyncio in /opt/conda/lib/python3.10/site-packages (from ipykernel>=4.5.1->ipywidgets<8.0,>=7.5->dataprep) (1.5.6)\n",
      "Requirement already satisfied: jupyter-client>=6.1.12 in /opt/conda/lib/python3.10/site-packages (from ipykernel>=4.5.1->ipywidgets<8.0,>=7.5->dataprep) (7.3.4)\n",
      "Requirement already satisfied: debugpy>=1.0 in /opt/conda/lib/python3.10/site-packages (from ipykernel>=4.5.1->ipywidgets<8.0,>=7.5->dataprep) (1.6.3)\n",
      "Requirement already satisfied: pyzmq>=17 in /opt/conda/lib/python3.10/site-packages (from ipykernel>=4.5.1->ipywidgets<8.0,>=7.5->dataprep) (24.0.1)\n",
      "Requirement already satisfied: psutil in /opt/conda/lib/python3.10/site-packages (from ipykernel>=4.5.1->ipywidgets<8.0,>=7.5->dataprep) (5.9.2)\n",
      "Requirement already satisfied: backcall in /opt/conda/lib/python3.10/site-packages (from ipython>=4.0.0->ipywidgets<8.0,>=7.5->dataprep) (0.2.0)\n",
      "Requirement already satisfied: pexpect>4.3 in /opt/conda/lib/python3.10/site-packages (from ipython>=4.0.0->ipywidgets<8.0,>=7.5->dataprep) (4.8.0)\n",
      "Requirement already satisfied: pygments>=2.4.0 in /opt/conda/lib/python3.10/site-packages (from ipython>=4.0.0->ipywidgets<8.0,>=7.5->dataprep) (2.13.0)\n",
      "Requirement already satisfied: prompt-toolkit<3.1.0,>3.0.1 in /opt/conda/lib/python3.10/site-packages (from ipython>=4.0.0->ipywidgets<8.0,>=7.5->dataprep) (3.0.31)\n",
      "Requirement already satisfied: stack-data in /opt/conda/lib/python3.10/site-packages (from ipython>=4.0.0->ipywidgets<8.0,>=7.5->dataprep) (0.5.1)\n",
      "Requirement already satisfied: jedi>=0.16 in /opt/conda/lib/python3.10/site-packages (from ipython>=4.0.0->ipywidgets<8.0,>=7.5->dataprep) (0.18.1)\n",
      "Requirement already satisfied: pickleshare in /opt/conda/lib/python3.10/site-packages (from ipython>=4.0.0->ipywidgets<8.0,>=7.5->dataprep) (0.7.5)\n",
      "Requirement already satisfied: locket in /opt/conda/lib/python3.10/site-packages (from partd>=0.3.10->dask[array,dataframe,delayed]>=2022.3.0->dataprep) (1.0.0)\n",
      "Requirement already satisfied: notebook>=4.4.1 in /opt/conda/lib/python3.10/site-packages (from widgetsnbextension~=3.6.0->ipywidgets<8.0,>=7.5->dataprep) (6.5.1)\n",
      "Requirement already satisfied: idna>=2.0 in /opt/conda/lib/python3.10/site-packages (from yarl<2.0,>=1.0->aiohttp<4.0,>=3.6->dataprep) (3.4)\n",
      "Requirement already satisfied: contourpy>=1.0.1 in /opt/conda/lib/python3.10/site-packages (from matplotlib->wordcloud<2.0,>=1.8->dataprep) (1.0.5)\n",
      "Requirement already satisfied: cycler>=0.10 in /opt/conda/lib/python3.10/site-packages (from matplotlib->wordcloud<2.0,>=1.8->dataprep) (0.11.0)\n",
      "Requirement already satisfied: fonttools>=4.22.0 in /opt/conda/lib/python3.10/site-packages (from matplotlib->wordcloud<2.0,>=1.8->dataprep) (4.37.4)\n",
      "Requirement already satisfied: kiwisolver>=1.0.1 in /opt/conda/lib/python3.10/site-packages (from matplotlib->wordcloud<2.0,>=1.8->dataprep) (1.4.4)\n",
      "Requirement already satisfied: parso<0.9.0,>=0.8.0 in /opt/conda/lib/python3.10/site-packages (from jedi>=0.16->ipython>=4.0.0->ipywidgets<8.0,>=7.5->dataprep) (0.8.3)\n",
      "Requirement already satisfied: entrypoints in /opt/conda/lib/python3.10/site-packages (from jupyter-client>=6.1.12->ipykernel>=4.5.1->ipywidgets<8.0,>=7.5->dataprep) (0.4)\n",
      "Requirement already satisfied: jupyter-core>=4.9.2 in /opt/conda/lib/python3.10/site-packages (from jupyter-client>=6.1.12->ipykernel>=4.5.1->ipywidgets<8.0,>=7.5->dataprep) (4.11.1)\n",
      "Requirement already satisfied: terminado>=0.8.3 in /opt/conda/lib/python3.10/site-packages (from notebook>=4.4.1->widgetsnbextension~=3.6.0->ipywidgets<8.0,>=7.5->dataprep) (0.16.0)\n",
      "Requirement already satisfied: nbclassic==0.4.5 in /opt/conda/lib/python3.10/site-packages (from notebook>=4.4.1->widgetsnbextension~=3.6.0->ipywidgets<8.0,>=7.5->dataprep) (0.4.5)\n",
      "Requirement already satisfied: argon2-cffi in /opt/conda/lib/python3.10/site-packages (from notebook>=4.4.1->widgetsnbextension~=3.6.0->ipywidgets<8.0,>=7.5->dataprep) (21.3.0)\n",
      "Requirement already satisfied: nbformat in /opt/conda/lib/python3.10/site-packages (from notebook>=4.4.1->widgetsnbextension~=3.6.0->ipywidgets<8.0,>=7.5->dataprep) (5.7.0)\n",
      "Requirement already satisfied: Send2Trash>=1.8.0 in /opt/conda/lib/python3.10/site-packages (from notebook>=4.4.1->widgetsnbextension~=3.6.0->ipywidgets<8.0,>=7.5->dataprep) (1.8.0)\n",
      "Requirement already satisfied: prometheus-client in /opt/conda/lib/python3.10/site-packages (from notebook>=4.4.1->widgetsnbextension~=3.6.0->ipywidgets<8.0,>=7.5->dataprep) (0.15.0)\n",
      "Requirement already satisfied: nbconvert>=5 in /opt/conda/lib/python3.10/site-packages (from notebook>=4.4.1->widgetsnbextension~=3.6.0->ipywidgets<8.0,>=7.5->dataprep) (7.2.1)\n",
      "Requirement already satisfied: jupyter-server>=1.8 in /opt/conda/lib/python3.10/site-packages (from nbclassic==0.4.5->notebook>=4.4.1->widgetsnbextension~=3.6.0->ipywidgets<8.0,>=7.5->dataprep) (1.21.0)\n",
      "Requirement already satisfied: notebook-shim>=0.1.0 in /opt/conda/lib/python3.10/site-packages (from nbclassic==0.4.5->notebook>=4.4.1->widgetsnbextension~=3.6.0->ipywidgets<8.0,>=7.5->dataprep) (0.1.0)\n",
      "Requirement already satisfied: ptyprocess>=0.5 in /opt/conda/lib/python3.10/site-packages (from pexpect>4.3->ipython>=4.0.0->ipywidgets<8.0,>=7.5->dataprep) (0.7.0)\n",
      "Requirement already satisfied: wcwidth in /opt/conda/lib/python3.10/site-packages (from prompt-toolkit<3.1.0,>3.0.1->ipython>=4.0.0->ipywidgets<8.0,>=7.5->dataprep) (0.2.5)\n",
      "Requirement already satisfied: beautifulsoup4 in /opt/conda/lib/python3.10/site-packages (from nbconvert>=5->notebook>=4.4.1->widgetsnbextension~=3.6.0->ipywidgets<8.0,>=7.5->dataprep) (4.11.1)\n",
      "Requirement already satisfied: defusedxml in /opt/conda/lib/python3.10/site-packages (from nbconvert>=5->notebook>=4.4.1->widgetsnbextension~=3.6.0->ipywidgets<8.0,>=7.5->dataprep) (0.7.1)\n",
      "Requirement already satisfied: tinycss2 in /opt/conda/lib/python3.10/site-packages (from nbconvert>=5->notebook>=4.4.1->widgetsnbextension~=3.6.0->ipywidgets<8.0,>=7.5->dataprep) (1.1.1)\n",
      "Requirement already satisfied: pandocfilters>=1.4.1 in /opt/conda/lib/python3.10/site-packages (from nbconvert>=5->notebook>=4.4.1->widgetsnbextension~=3.6.0->ipywidgets<8.0,>=7.5->dataprep) (1.5.0)\n",
      "Requirement already satisfied: bleach in /opt/conda/lib/python3.10/site-packages (from nbconvert>=5->notebook>=4.4.1->widgetsnbextension~=3.6.0->ipywidgets<8.0,>=7.5->dataprep) (5.0.1)\n",
      "Requirement already satisfied: nbclient>=0.5.0 in /opt/conda/lib/python3.10/site-packages (from nbconvert>=5->notebook>=4.4.1->widgetsnbextension~=3.6.0->ipywidgets<8.0,>=7.5->dataprep) (0.7.0)\n",
      "Requirement already satisfied: mistune<3,>=2.0.3 in /opt/conda/lib/python3.10/site-packages (from nbconvert>=5->notebook>=4.4.1->widgetsnbextension~=3.6.0->ipywidgets<8.0,>=7.5->dataprep) (2.0.4)\n",
      "Requirement already satisfied: jupyterlab-pygments in /opt/conda/lib/python3.10/site-packages (from nbconvert>=5->notebook>=4.4.1->widgetsnbextension~=3.6.0->ipywidgets<8.0,>=7.5->dataprep) (0.2.2)\n",
      "Requirement already satisfied: fastjsonschema in /opt/conda/lib/python3.10/site-packages (from nbformat->notebook>=4.4.1->widgetsnbextension~=3.6.0->ipywidgets<8.0,>=7.5->dataprep) (2.16.2)\n",
      "Requirement already satisfied: jsonschema>=2.6 in /opt/conda/lib/python3.10/site-packages (from nbformat->notebook>=4.4.1->widgetsnbextension~=3.6.0->ipywidgets<8.0,>=7.5->dataprep) (4.16.0)\n",
      "Requirement already satisfied: argon2-cffi-bindings in /opt/conda/lib/python3.10/site-packages (from argon2-cffi->notebook>=4.4.1->widgetsnbextension~=3.6.0->ipywidgets<8.0,>=7.5->dataprep) (21.2.0)\n",
      "Requirement already satisfied: pyrsistent!=0.17.0,!=0.17.1,!=0.17.2,>=0.14.0 in /opt/conda/lib/python3.10/site-packages (from jsonschema>=2.6->nbformat->notebook>=4.4.1->widgetsnbextension~=3.6.0->ipywidgets<8.0,>=7.5->dataprep) (0.18.1)\n",
      "Requirement already satisfied: anyio<4,>=3.1.0 in /opt/conda/lib/python3.10/site-packages (from jupyter-server>=1.8->nbclassic==0.4.5->notebook>=4.4.1->widgetsnbextension~=3.6.0->ipywidgets<8.0,>=7.5->dataprep) (3.6.1)\n",
      "Requirement already satisfied: websocket-client in /opt/conda/lib/python3.10/site-packages (from jupyter-server>=1.8->nbclassic==0.4.5->notebook>=4.4.1->widgetsnbextension~=3.6.0->ipywidgets<8.0,>=7.5->dataprep) (1.4.1)\n",
      "Requirement already satisfied: cffi>=1.0.1 in /opt/conda/lib/python3.10/site-packages (from argon2-cffi-bindings->argon2-cffi->notebook>=4.4.1->widgetsnbextension~=3.6.0->ipywidgets<8.0,>=7.5->dataprep) (1.15.1)\n",
      "Requirement already satisfied: soupsieve>1.2 in /opt/conda/lib/python3.10/site-packages (from beautifulsoup4->nbconvert>=5->notebook>=4.4.1->widgetsnbextension~=3.6.0->ipywidgets<8.0,>=7.5->dataprep) (2.3.2.post1)\n",
      "Requirement already satisfied: webencodings in /opt/conda/lib/python3.10/site-packages (from bleach->nbconvert>=5->notebook>=4.4.1->widgetsnbextension~=3.6.0->ipywidgets<8.0,>=7.5->dataprep) (0.5.1)\n",
      "Requirement already satisfied: sniffio>=1.1 in /opt/conda/lib/python3.10/site-packages (from anyio<4,>=3.1.0->jupyter-server>=1.8->nbclassic==0.4.5->notebook>=4.4.1->widgetsnbextension~=3.6.0->ipywidgets<8.0,>=7.5->dataprep) (1.3.0)\n",
      "Requirement already satisfied: pycparser in /opt/conda/lib/python3.10/site-packages (from cffi>=1.0.1->argon2-cffi-bindings->argon2-cffi->notebook>=4.4.1->widgetsnbextension~=3.6.0->ipywidgets<8.0,>=7.5->dataprep) (2.21)\n"
     ]
    }
   ],
   "source": [
    "!pip install netaddr dataprep"
   ]
  },
  {
   "cell_type": "code",
   "execution_count": 1,
   "id": "1434def2-0680-40b2-a4b0-0734adf92f6c",
   "metadata": {},
   "outputs": [],
   "source": [
    "from compare_lists import compare_lists\n",
    "from ipv4_from_base_10 import ipv4_from_base_10\n",
    "from ipv4_from_base_2 import ipv4_from_base_2\n",
    "from ipv4_from_inverse_mask import ipv4_from_inverse_mask\n",
    "from ipv4_summary_address import ipv4_summary_address\n",
    "from inspect_ipv4 import inspect_ipv4"
   ]
  },
  {
   "cell_type": "code",
   "execution_count": 2,
   "id": "990d869b-f743-4617-978d-7b48a6189e44",
   "metadata": {},
   "outputs": [],
   "source": [
    "# useses cidr_merge to find route summaries based on prefixes\n",
    "# fh = open (\"./addresses.txt\", 'r')\n",
    "# iplist = list()\n",
    "# for addr in fh:\n",
    "#     # print(addr)\n",
    "#     addr = addr.strip()\n",
    "#     iplist.append (addr)\n",
    "# compare_lists(cidr_merge(iplist),iplist)\n",
    "# print(\"\\n\\nRoute Summaries\")\n",
    "# list(set([str(x)for x in cidr_merge(iplist)]) - set(iplist))"
   ]
  },
  {
   "cell_type": "code",
   "execution_count": 25,
   "id": "c38c4b0f-f5dc-4756-90bb-fcf80ec9a50b",
   "metadata": {},
   "outputs": [
    {
     "name": "stderr",
     "output_type": "stream",
     "text": [
      "/opt/conda/lib/python3.10/site-packages/dask/dataframe/core.py:6748: FutureWarning: Meta is not valid, `map_partitions` and `map_overlap` expects output to be a pandas object. Try passing a pandas object as meta or a dict or tuple representing the (name, dtype) of the columns. In the future the meta you passed will not work.\n",
      "  warnings.warn(\n"
     ]
    },
    {
     "data": {
      "application/vnd.jupyter.widget-view+json": {
       "model_id": "",
       "version_major": 2,
       "version_minor": 0
      },
      "text/plain": [
       "  0%|          | 0/8 [00:00<?, ?it/s]"
      ]
     },
     "metadata": {},
     "output_type": "display_data"
    }
   ],
   "source": [
    "data = \"\"\"\n",
    "10.113.245.0\n",
    "10.113.246.0\n",
    "10.113.248.0\n",
    "10.113.250.0\n",
    "10.113.252.8\n",
    "10.113.253.0\n",
    "10.113.247.0\n",
    "10.113.254.0\"\"\".strip().split(\"\\n\")\n",
    "\n",
    "data = [x.strip() for x in data]\n",
    "data = sorted(data, reverse=True)\n",
    "# data = [x for x in data if x != \"10.26.0.0\".strip()]\n",
    "data = ipv4_from_base_10(data)[\"ip_clean\"]"
   ]
  },
  {
   "cell_type": "code",
   "execution_count": 26,
   "id": "a2e50fd0-aa3a-43d9-9cc8-096d39eff672",
   "metadata": {},
   "outputs": [
    {
     "name": "stdout",
     "output_type": "stream",
     "text": [
      "[0, 0, 0, 0, 1, 0, 1, 0, 0, 1, 1, 1, 0, 0, 0, 1, 1, 1, 1, 1, 1, 1, 1, 0, 0, 0, 0, 0, 0, 0, 0, 0] 10.113.254.0\n",
      "[0, 0, 0, 0, 1, 0, 1, 0, 0, 1, 1, 1, 0, 0, 0, 1, 1, 1, 1, 1, 1, 1, 0, 1, 0, 0, 0, 0, 0, 0, 0, 0] 10.113.253.0\n",
      "[0, 0, 0, 0, 1, 0, 1, 0, 0, 1, 1, 1, 0, 0, 0, 1, 1, 1, 1, 1, 1, 1, 0, 0, 0, 0, 0, 0, 1, 0, 0, 0] 10.113.252.8\n",
      "[0, 0, 0, 0, 1, 0, 1, 0, 0, 1, 1, 1, 0, 0, 0, 1, 1, 1, 1, 1, 1, 0, 1, 0, 0, 0, 0, 0, 0, 0, 0, 0] 10.113.250.0\n",
      "[0, 0, 0, 0, 1, 0, 1, 0, 0, 1, 1, 1, 0, 0, 0, 1, 1, 1, 1, 1, 1, 0, 0, 0, 0, 0, 0, 0, 0, 0, 0, 0] 10.113.248.0\n",
      "[0, 0, 0, 0, 1, 0, 1, 0, 0, 1, 1, 1, 0, 0, 0, 1, 1, 1, 1, 1, 0, 1, 1, 1, 0, 0, 0, 0, 0, 0, 0, 0] 10.113.247.0\n",
      "[0, 0, 0, 0, 1, 0, 1, 0, 0, 1, 1, 1, 0, 0, 0, 1, 1, 1, 1, 1, 0, 1, 1, 0, 0, 0, 0, 0, 0, 0, 0, 0] 10.113.246.0\n",
      "[0, 0, 0, 0, 1, 0, 1, 0, 0, 1, 1, 1, 0, 0, 0, 1, 1, 1, 1, 1, 0, 1, 0, 1, 0, 0, 0, 0, 0, 0, 0, 0] 10.113.245.0\n",
      "[1, 1, 1, 1, 1, 1, 1, 1, 1, 1, 1, 1, 1, 1, 1, 1, 1, 1, 1, 1, 0, 0, 0, 0, 0, 0, 0, 0, 0, 0, 0, 0] 255.255.240.0 /20\n",
      "\n",
      "\n"
     ]
    }
   ],
   "source": [
    "# convert list of strings to integers\n",
    "data = [[[int(x) for x in list(y)][0] for y in x] for x in data]\n",
    "# creates summaries based on network addresses\n",
    "result = ipv4_summary_address(data)"
   ]
  },
  {
   "cell_type": "code",
   "execution_count": null,
   "id": "0d72e3ca-240c-45a1-8c89-9d17bac9f897",
   "metadata": {},
   "outputs": [],
   "source": []
  },
  {
   "cell_type": "code",
   "execution_count": 23,
   "id": "b04d3d92-a9e5-4df8-8e3d-5caee0787f42",
   "metadata": {},
   "outputs": [
    {
     "data": {
      "text/plain": [
       "{'network_address': '10.114.240.0',\n",
       " 'broadcast_address': '10.114.255.255',\n",
       " 'prefix': 20,\n",
       " 'netmask': '255.255.240.0',\n",
       " 'host_range_begin': '10.114.240.1',\n",
       " 'host_range_end': '10.114.255.254',\n",
       " 'hosts': 4096,\n",
       " 'hostmask': '0.0.15.255',\n",
       " 'network_increment': 16}"
      ]
     },
     "execution_count": 23,
     "metadata": {},
     "output_type": "execute_result"
    }
   ],
   "source": [
    "inspect_ipv4(\"10.114.248.0/20\",debug = {'status': False, 'level':0})"
   ]
  },
  {
   "cell_type": "code",
   "execution_count": 2,
   "id": "92fee91b-995a-4c55-a4db-f9da70587d88",
   "metadata": {},
   "outputs": [
    {
     "data": {
      "text/plain": [
       "{'network_address': '10.114.240.0',\n",
       " 'broadcast_address': '10.114.255.255',\n",
       " 'prefix': 20,\n",
       " 'netmask': '255.255.240.0',\n",
       " 'host_range_begin': '10.114.240.1',\n",
       " 'host_range_end': '10.114.255.254',\n",
       " 'hosts': 4096,\n",
       " 'hostmask': '0.0.15.255',\n",
       " 'network_increment': 16}"
      ]
     },
     "execution_count": 2,
     "metadata": {},
     "output_type": "execute_result"
    }
   ],
   "source": [
    "inspect_ipv4(\"10.114.254.0/20\",debug = {'status': False, 'level':0})"
   ]
  },
  {
   "cell_type": "code",
   "execution_count": 9,
   "id": "90f49020-b8fc-4f8e-a5f7-a21d20c0d635",
   "metadata": {},
   "outputs": [
    {
     "name": "stdout",
     "output_type": "stream",
     "text": [
      "Today's date: 2022-12-06\n"
     ]
    },
    {
     "data": {
      "text/plain": [
       "'12062022'"
      ]
     },
     "execution_count": 9,
     "metadata": {},
     "output_type": "execute_result"
    }
   ],
   "source": [
    "from datetime import date\n",
    "\n",
    "today = date.today()\n",
    "today = str(today).split(\"-\")\n",
    "today = today[1]+today[2]+today[0]\n"
   ]
  },
  {
   "cell_type": "code",
   "execution_count": null,
   "id": "a378c62d-a5fb-4e8f-bd60-7d13d89a6ac0",
   "metadata": {},
   "outputs": [],
   "source": []
  }
 ],
 "metadata": {
  "kernelspec": {
   "display_name": "Python 3 (ipykernel)",
   "language": "python",
   "name": "python3"
  },
  "language_info": {
   "codemirror_mode": {
    "name": "ipython",
    "version": 3
   },
   "file_extension": ".py",
   "mimetype": "text/x-python",
   "name": "python",
   "nbconvert_exporter": "python",
   "pygments_lexer": "ipython3",
   "version": "3.10.6"
  }
 },
 "nbformat": 4,
 "nbformat_minor": 5
}
